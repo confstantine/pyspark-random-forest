{
 "cells": [
  {
   "cell_type": "code",
   "execution_count": 93,
   "metadata": {},
   "outputs": [],
   "source": [
    "import sys, os\n",
    "os.environ['SPARK_HOME'] = \"D:\\\\ProgramFile\\\\spark-3.0.2-bin-hadoop2.7\"\n",
    "sys.path.append(\"D:\\\\ProgramFile\\\\spark-3.0.2-bin-hadoop2.7\\\\python\")\n",
    "sys.path.append(\"D:\\\\ProgramFile\\\\spark-3.0.2-bin-hadoop2.7\\\\python\\\\lib\")\n",
    "sys.path.append(\"D:\\\\ProgramFile\\\\spark-3.0.2-bin-hadoop2.7\\\\python\\\\pyspark\")\n",
    "import findspark\n",
    "findspark.init()\n",
    "from pyspark import SparkContext, SparkConf\n",
    "from pyspark.sql import SparkSession\n",
    "\n",
    "from pyspark.sql.types import FloatType, IntegerType\n",
    "import pyspark.sql.functions as fn\n",
    "from pyspark.ml import Pipeline\n",
    "from pyspark.ml.feature import StringIndexer\n",
    "import pandas as pd\n",
    "\n",
    "conf = SparkConf().setMaster(\"local[8]\").setAppName(\"process data\")\n",
    "spark = SparkSession.builder.config(conf = conf).getOrCreate()"
   ]
  },
  {
   "cell_type": "code",
   "execution_count": 106,
   "metadata": {},
   "outputs": [],
   "source": [
    "df = spark.read.csv('D:\\\\pycharm_projects\\\\\\RandomForest_Spark\\\\data\\\\bands.data', header=False)"
   ]
  },
  {
   "cell_type": "markdown",
   "metadata": {},
   "source": [
    "该数据共有541个样本，40个特征"
   ]
  },
  {
   "cell_type": "code",
   "execution_count": 107,
   "metadata": {},
   "outputs": [
    {
     "name": "stdout",
     "output_type": "stream",
     "text": [
      "(541, 40)\n",
      "['_c0', '_c1', '_c2', '_c3', '_c4', '_c5', '_c6', '_c7', '_c8', '_c9', '_c10', '_c11', '_c12', '_c13', '_c14', '_c15', '_c16', '_c17', '_c18', '_c19', '_c20', '_c21', '_c22', '_c23', '_c24', '_c25', '_c26', '_c27', '_c28', '_c29', '_c30', '_c31', '_c32', '_c33', '_c34', '_c35', '_c36', '_c37', '_c38', '_c39']\n"
     ]
    }
   ],
   "source": [
    "print((df.count(), len(df.columns)))\n",
    "print(df.columns)"
   ]
  },
  {
   "cell_type": "markdown",
   "metadata": {},
   "source": [
    "统计每列缺失值占比，可以发现缺失值占少数，可以考虑直接删除缺失值"
   ]
  },
  {
   "cell_type": "code",
   "execution_count": 108,
   "metadata": {},
   "outputs": [
    {
     "name": "stdout",
     "output_type": "stream",
     "text": [
      "+-----------+-----------+-----------+-----------+-----------+-----------+-----------+-----------+-----------+-----------+------------+------------+------------+------------+------------+------------+------------+--------------------+--------------------+--------------------+--------------------+--------------------+--------------------+--------------------+--------------------+--------------------+--------------------+--------------------+--------------------+--------------------+--------------------+--------------------+--------------------+--------------------+--------------------+--------------------+--------------------+--------------------+--------------------+--------------------+\n",
      "|_c0_missing|_c1_missing|_c2_missing|_c3_missing|_c4_missing|_c5_missing|_c6_missing|_c7_missing|_c8_missing|_c9_missing|_c10_missing|_c11_missing|_c12_missing|_c13_missing|_c14_missing|_c15_missing|_c16_missing|        _c17_missing|        _c18_missing|        _c19_missing|        _c20_missing|        _c21_missing|        _c22_missing|        _c23_missing|        _c24_missing|        _c25_missing|        _c26_missing|        _c27_missing|        _c28_missing|        _c29_missing|        _c30_missing|        _c31_missing|        _c32_missing|        _c33_missing|        _c34_missing|        _c35_missing|        _c36_missing|        _c37_missing|        _c38_missing|        _c39_missing|\n",
      "+-----------+-----------+-----------+-----------+-----------+-----------+-----------+-----------+-----------+-----------+------------+------------+------------+------------+------------+------------+------------+--------------------+--------------------+--------------------+--------------------+--------------------+--------------------+--------------------+--------------------+--------------------+--------------------+--------------------+--------------------+--------------------+--------------------+--------------------+--------------------+--------------------+--------------------+--------------------+--------------------+--------------------+--------------------+--------------------+\n",
      "|        0.0|        0.0|        0.0|        0.0|        0.0|        0.0|        0.0|        0.0|        0.0|        0.0|         0.0|         0.0|         0.0|         0.0|         0.0|         0.0|         0.0|0.001848428835489857|0.001848428835489857|0.001848428835489857|0.001848428835489857|0.001848428835489857|0.001848428835489857|0.003696857670979714|0.003696857670979714|0.003696857670979714|0.003696857670979714|0.003696857670979714|0.003696857670979714|0.003696857670979714|0.003696857670979714|0.003696857670979714|0.003696857670979714|0.003696857670979714|0.003696857670979714|0.003696857670979714|0.003696857670979714|0.003696857670979714|0.003696857670979714|0.003696857670979714|\n",
      "+-----------+-----------+-----------+-----------+-----------+-----------+-----------+-----------+-----------+-----------+------------+------------+------------+------------+------------+------------+------------+--------------------+--------------------+--------------------+--------------------+--------------------+--------------------+--------------------+--------------------+--------------------+--------------------+--------------------+--------------------+--------------------+--------------------+--------------------+--------------------+--------------------+--------------------+--------------------+--------------------+--------------------+--------------------+--------------------+\n",
      "\n"
     ]
    }
   ],
   "source": [
    "df.agg(*[\n",
    "    (1 - (fn.count(c) / fn.count('*'))).alias(c + '_missing')\n",
    "    for c in df.columns\n",
    "]).show()"
   ]
  },
  {
   "cell_type": "code",
   "execution_count": 109,
   "metadata": {},
   "outputs": [],
   "source": [
    "df = df.dropDuplicates()"
   ]
  },
  {
   "cell_type": "markdown",
   "metadata": {},
   "source": [
    "- 根据数据说明，前20个特征值是类别特征，后19个特征值是数值特征，最后一个是类别，删除第一个时间戳特征\n",
    "- 直接去掉含缺失值的样本，剩余539个"
   ]
  },
  {
   "cell_type": "code",
   "execution_count": 110,
   "metadata": {},
   "outputs": [],
   "source": [
    "for c in [\"_c0\", \"_c1\", \"_c2\", \"_c3\"]:\n",
    "    df = df.drop(c)"
   ]
  },
  {
   "cell_type": "code",
   "execution_count": 115,
   "metadata": {},
   "outputs": [],
   "source": [
    "df = df.dropna()"
   ]
  },
  {
   "cell_type": "code",
   "execution_count": 113,
   "metadata": {},
   "outputs": [
    {
     "name": "stdout",
     "output_type": "stream",
     "text": [
      "+-----------+-----------+-----------+-----------+-----------+-----------+------------+------------+------------+------------+------------+------------+------------+------------+------------+------------+------------+------------+------------+------------+------------+------------+------------+------------+------------+------------+------------+------------+------------+------------+------------+------------+------------+------------+------------+------------+\n",
      "|_c4_missing|_c5_missing|_c6_missing|_c7_missing|_c8_missing|_c9_missing|_c10_missing|_c11_missing|_c12_missing|_c13_missing|_c14_missing|_c15_missing|_c16_missing|_c17_missing|_c18_missing|_c19_missing|_c20_missing|_c21_missing|_c22_missing|_c23_missing|_c24_missing|_c25_missing|_c26_missing|_c27_missing|_c28_missing|_c29_missing|_c30_missing|_c31_missing|_c32_missing|_c33_missing|_c34_missing|_c35_missing|_c36_missing|_c37_missing|_c38_missing|_c39_missing|\n",
      "+-----------+-----------+-----------+-----------+-----------+-----------+------------+------------+------------+------------+------------+------------+------------+------------+------------+------------+------------+------------+------------+------------+------------+------------+------------+------------+------------+------------+------------+------------+------------+------------+------------+------------+------------+------------+------------+------------+\n",
      "|        0.0|        0.0|        0.0|        0.0|        0.0|        0.0|         0.0|         0.0|         0.0|         0.0|         0.0|         0.0|         0.0|         0.0|         0.0|         0.0|         0.0|         0.0|         0.0|         0.0|         0.0|         0.0|         0.0|         0.0|         0.0|         0.0|         0.0|         0.0|         0.0|         0.0|         0.0|         0.0|         0.0|         0.0|         0.0|         0.0|\n",
      "+-----------+-----------+-----------+-----------+-----------+-----------+------------+------------+------------+------------+------------+------------+------------+------------+------------+------------+------------+------------+------------+------------+------------+------------+------------+------------+------------+------------+------------+------------+------------+------------+------------+------------+------------+------------+------------+------------+\n",
      "\n"
     ]
    }
   ],
   "source": [
    "df.agg(*[\n",
    "    (1 - (fn.count(c) / fn.count('*'))).alias(c + '_missing')\n",
    "    for c in df.columns\n",
    "]).show()"
   ]
  },
  {
   "cell_type": "code",
   "execution_count": 116,
   "metadata": {},
   "outputs": [
    {
     "data": {
      "text/plain": [
       "539"
      ]
     },
     "execution_count": 116,
     "metadata": {},
     "output_type": "execute_result"
    }
   ],
   "source": [
    "df.count()"
   ]
  },
  {
   "cell_type": "code",
   "execution_count": 117,
   "metadata": {},
   "outputs": [],
   "source": [
    "for i in range(20, 39):\n",
    "    df = df.withColumn(\"_c\"+str(i), df[\"_c\"+str(i)].cast(FloatType()))"
   ]
  },
  {
   "cell_type": "code",
   "execution_count": 128,
   "metadata": {},
   "outputs": [],
   "source": [
    "pipeline = Pipeline(stages=[\n",
    "    StringIndexer(inputCol=c, outputCol='{}_index'.format(c), handleInvalid=\"keep\")\n",
    "    for c in [\"_c\"+str(i) for i in range(4, 20)] + [\"_c39\"]\n",
    "])\n",
    "model = pipeline.fit(df)\n",
    "transformed = model.transform(df)"
   ]
  },
  {
   "cell_type": "code",
   "execution_count": 129,
   "metadata": {},
   "outputs": [],
   "source": [
    "for c in [\"_c\"+str(i) for i in range(4, 20)] + [\"_c39\"]:\n",
    "    transformed = transformed.drop(c)"
   ]
  },
  {
   "cell_type": "code",
   "execution_count": 130,
   "metadata": {},
   "outputs": [
    {
     "name": "stdout",
     "output_type": "stream",
     "text": [
      "root\n",
      " |-- _c20: float (nullable = true)\n",
      " |-- _c21: float (nullable = true)\n",
      " |-- _c22: float (nullable = true)\n",
      " |-- _c23: float (nullable = true)\n",
      " |-- _c24: float (nullable = true)\n",
      " |-- _c25: float (nullable = true)\n",
      " |-- _c26: float (nullable = true)\n",
      " |-- _c27: float (nullable = true)\n",
      " |-- _c28: float (nullable = true)\n",
      " |-- _c29: float (nullable = true)\n",
      " |-- _c30: float (nullable = true)\n",
      " |-- _c31: float (nullable = true)\n",
      " |-- _c32: float (nullable = true)\n",
      " |-- _c33: float (nullable = true)\n",
      " |-- _c34: float (nullable = true)\n",
      " |-- _c35: float (nullable = true)\n",
      " |-- _c36: float (nullable = true)\n",
      " |-- _c37: float (nullable = true)\n",
      " |-- _c38: float (nullable = true)\n",
      " |-- _c4_index: double (nullable = false)\n",
      " |-- _c5_index: double (nullable = false)\n",
      " |-- _c6_index: double (nullable = false)\n",
      " |-- _c7_index: double (nullable = false)\n",
      " |-- _c8_index: double (nullable = false)\n",
      " |-- _c9_index: double (nullable = false)\n",
      " |-- _c10_index: double (nullable = false)\n",
      " |-- _c11_index: double (nullable = false)\n",
      " |-- _c12_index: double (nullable = false)\n",
      " |-- _c13_index: double (nullable = false)\n",
      " |-- _c14_index: double (nullable = false)\n",
      " |-- _c15_index: double (nullable = false)\n",
      " |-- _c16_index: double (nullable = false)\n",
      " |-- _c17_index: double (nullable = false)\n",
      " |-- _c18_index: double (nullable = false)\n",
      " |-- _c19_index: double (nullable = false)\n",
      " |-- _c39_index: double (nullable = false)\n",
      "\n"
     ]
    }
   ],
   "source": [
    "transformed.printSchema()"
   ]
  },
  {
   "cell_type": "code",
   "execution_count": 131,
   "metadata": {},
   "outputs": [],
   "source": [
    "for i in list(range(4, 20))+[39]:\n",
    "    transformed = transformed.withColumn(\"_c\"+str(i)+\"_index\", transformed[\"_c\"+str(i)+\"_index\"].cast(IntegerType()))"
   ]
  },
  {
   "cell_type": "code",
   "execution_count": 136,
   "metadata": {},
   "outputs": [],
   "source": [
    "data = transformed.toPandas()\n",
    "data.to_csv(\"./transformed.csv\", header=False)"
   ]
  }
 ],
 "metadata": {
  "kernelspec": {
   "display_name": "Python [conda env:dgl_nev] *",
   "language": "python",
   "name": "conda-env-dgl_nev-py"
  },
  "language_info": {
   "codemirror_mode": {
    "name": "ipython",
    "version": 3
   },
   "file_extension": ".py",
   "mimetype": "text/x-python",
   "name": "python",
   "nbconvert_exporter": "python",
   "pygments_lexer": "ipython3",
   "version": "3.7.8"
  }
 },
 "nbformat": 4,
 "nbformat_minor": 4
}
